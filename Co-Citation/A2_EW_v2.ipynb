{
 "cells": [
  {
   "cell_type": "markdown",
   "metadata": {},
   "source": [
    "Requires installation of pandas, matplotlib, and networkx"
   ]
  },
  {
   "cell_type": "code",
   "execution_count": 2,
   "metadata": {},
   "outputs": [],
   "source": [
    "import pandas as pd"
   ]
  },
  {
   "cell_type": "markdown",
   "metadata": {},
   "source": [
    "## Co-Citation Counting"
   ]
  },
  {
   "cell_type": "markdown",
   "metadata": {},
   "source": [
    "I previously gathered citation data from Pubmed that included literature pertaining to histones written in English and published between 1980 and 1990. This data was matched against the open_citations database and the resulting data frame contained 4,508 nodes (dois) and 249,919 edges (direct citations). Using the dois of citing papers and the dois of cited papers, I am examining co-citation within this dataset with the following questions in mind: What does the distribution of co-citation pairs look like and which pair of papers is most highly co-cited? What topics or other features unite the most highly co-cited pair? I also created rudimentary graphs of the co-citation pairs in an attempt to visualize the relationships between cited nodes.\n",
    "\n",
    "To count the co-citations, I had to organize the data such that for each citing paper, each possible pairwise combination of cited papers was generated and then the frequency of each pairing was counted across the entire data set. To accomplish this, I created two dictionaries, one to create a list of references found within each citing paper, and then another dictionary to generate and count all the pairs found within the list of references. Further details about each dictionary are provided below."
   ]
  },
  {
   "cell_type": "code",
   "execution_count": 3,
   "metadata": {},
   "outputs": [],
   "source": [
    "citation_data = pd.read_csv(f'histone_export.csv')"
   ]
  },
  {
   "cell_type": "markdown",
   "metadata": {},
   "source": [
    "I used two columns of the citation data gathered previously: a column containing citing dois and a column containing cited dois. Each unique citing node is added to a dictionary key (String) and its cited doi is added to the value of this key as an item in a list. Each time a citing doi is found that is already in the dictionary, the cited node is added to the value list. For example, if a paper cites two other papers, the dictionary will look like: {citing_doi: [cited_doi_1, cited_doi_2]}."
   ]
  },
  {
   "cell_type": "code",
   "execution_count": 4,
   "metadata": {},
   "outputs": [],
   "source": [
    "dictionary = {}\n",
    "\n",
    "for i in range(len(citation_data)):\n",
    "  citing_paper = citation_data['citing'][i]\n",
    "  if citing_paper in dictionary:\n",
    "    # save keys (citations) from citing paper\n",
    "    cited_list = dictionary.get(citing_paper)\n",
    "    # add the cited paper to the list\n",
    "    cited_list += [citation_data['cited'][i]]\n",
    "    # add key : updated citing list back into the dictionary\n",
    "    dictionary[citing_paper] = cited_list\n",
    "  else:\n",
    "    # add new key : value pair\n",
    "    dictionary[citing_paper] = [citation_data['cited'][i]]"
   ]
  },
  {
   "cell_type": "markdown",
   "metadata": {},
   "source": [
    "This next block takes the dictionary from the block above and goes through each values list. If the length of the list \n",
    "is less than one (meaning the citing paper contained only one references), then this list is discarded. If two or more papers\n",
    "were cited, the list of values is iterated over and each unique citation pairing is added as a dictionary key. Each time \n",
    "this pair occurs, the value of the pair is increased by one. The resulting format is {\"cited_doi_1, cited_doi_2\" :\n",
    "number_of_instances}."
   ]
  },
  {
   "cell_type": "code",
   "execution_count": 5,
   "metadata": {},
   "outputs": [
    {
     "data": {
      "text/html": [
       "<div>\n",
       "<style scoped>\n",
       "    .dataframe tbody tr th:only-of-type {\n",
       "        vertical-align: middle;\n",
       "    }\n",
       "\n",
       "    .dataframe tbody tr th {\n",
       "        vertical-align: top;\n",
       "    }\n",
       "\n",
       "    .dataframe thead th {\n",
       "        text-align: right;\n",
       "    }\n",
       "</style>\n",
       "<table border=\"1\" class=\"dataframe\">\n",
       "  <thead>\n",
       "    <tr style=\"text-align: right;\">\n",
       "      <th></th>\n",
       "      <th>Pair</th>\n",
       "      <th>Count</th>\n",
       "    </tr>\n",
       "  </thead>\n",
       "  <tbody>\n",
       "    <tr>\n",
       "      <th>2694384</th>\n",
       "      <td>10.1016/s0074-7696(08)60558-6 10.1007/bf02893563</td>\n",
       "      <td>1</td>\n",
       "    </tr>\n",
       "    <tr>\n",
       "      <th>1450284</th>\n",
       "      <td>10.1139/o78-075 10.1016/s0021-9258(17)43980-9</td>\n",
       "      <td>1</td>\n",
       "    </tr>\n",
       "    <tr>\n",
       "      <th>1450283</th>\n",
       "      <td>10.1139/o78-075 10.1016/s0021-9258(17)34724-5</td>\n",
       "      <td>1</td>\n",
       "    </tr>\n",
       "    <tr>\n",
       "      <th>1450282</th>\n",
       "      <td>10.1139/o78-075 10.1016/s0021-9258(18)32583-3</td>\n",
       "      <td>1</td>\n",
       "    </tr>\n",
       "    <tr>\n",
       "      <th>1450281</th>\n",
       "      <td>10.1139/o78-075 10.1016/s0021-9258(18)33780-3</td>\n",
       "      <td>1</td>\n",
       "    </tr>\n",
       "    <tr>\n",
       "      <th>...</th>\n",
       "      <td>...</td>\n",
       "      <td>...</td>\n",
       "    </tr>\n",
       "    <tr>\n",
       "      <th>47654</th>\n",
       "      <td>10.1016/0092-8674(88)90060-8 10.1038/335251a0</td>\n",
       "      <td>152</td>\n",
       "    </tr>\n",
       "    <tr>\n",
       "      <th>33390</th>\n",
       "      <td>10.1146/annurev.bi.51.070182.000513 10.1146/an...</td>\n",
       "      <td>154</td>\n",
       "    </tr>\n",
       "    <tr>\n",
       "      <th>84923</th>\n",
       "      <td>10.1016/0092-8674(84)90300-3 10.1016/0092-8674...</td>\n",
       "      <td>200</td>\n",
       "    </tr>\n",
       "    <tr>\n",
       "      <th>94271</th>\n",
       "      <td>10.1146/annurev.bi.49.070180.005343 10.1146/an...</td>\n",
       "      <td>202</td>\n",
       "    </tr>\n",
       "    <tr>\n",
       "      <th>23091</th>\n",
       "      <td>10.1016/0022-2836(86)90452-3 10.1016/0022-2836...</td>\n",
       "      <td>237</td>\n",
       "    </tr>\n",
       "  </tbody>\n",
       "</table>\n",
       "<p>2694385 rows × 2 columns</p>\n",
       "</div>"
      ],
      "text/plain": [
       "                                                      Pair  Count\n",
       "2694384   10.1016/s0074-7696(08)60558-6 10.1007/bf02893563      1\n",
       "1450284      10.1139/o78-075 10.1016/s0021-9258(17)43980-9      1\n",
       "1450283      10.1139/o78-075 10.1016/s0021-9258(17)34724-5      1\n",
       "1450282      10.1139/o78-075 10.1016/s0021-9258(18)32583-3      1\n",
       "1450281      10.1139/o78-075 10.1016/s0021-9258(18)33780-3      1\n",
       "...                                                    ...    ...\n",
       "47654        10.1016/0092-8674(88)90060-8 10.1038/335251a0    152\n",
       "33390    10.1146/annurev.bi.51.070182.000513 10.1146/an...    154\n",
       "84923    10.1016/0092-8674(84)90300-3 10.1016/0092-8674...    200\n",
       "94271    10.1146/annurev.bi.49.070180.005343 10.1146/an...    202\n",
       "23091    10.1016/0022-2836(86)90452-3 10.1016/0022-2836...    237\n",
       "\n",
       "[2694385 rows x 2 columns]"
      ]
     },
     "execution_count": 5,
     "metadata": {},
     "output_type": "execute_result"
    }
   ],
   "source": [
    "count_dict = {}\n",
    "for i in dictionary:\n",
    "    # get the list of cited papers\n",
    "    ref_list = dictionary.get(i)\n",
    "    if len(ref_list) > 1:\n",
    "        # find each combination of cited papers\n",
    "        for j in range(len(ref_list)):\n",
    "            for k in range(j+1, len(ref_list)):\n",
    "                # if the given combination isn't in the dictionary, add a new key. Else increase the value by one.\n",
    "                if str(ref_list[j]) + \" \" + str(ref_list[k]) not in count_dict:\n",
    "                    count_dict[str(ref_list[j]) + \" \" + str(ref_list[k])] = 1\n",
    "                else:\n",
    "                    count_dict[str(ref_list[j]) + \" \" + str(ref_list[k])] += 1\n",
    "\n",
    "df = pd.DataFrame(list(count_dict.items()), columns=['Pair', 'Count'])\n",
    "df = df.sort_values('Count')\n",
    "df.to_csv('result.csv')\n",
    "df"
   ]
  },
  {
   "cell_type": "markdown",
   "metadata": {},
   "source": [
    "A note on the above code: the current version treats \"doi1 doi2\" and \"doi2 doi1\" as separate pairs, which I would avoid doing in the future. This is an artifact of using a string to sort my dois, as strings can't be sorted. A future version could use a tuple or a list of two items, which could be manipulated so that [\"doi2\", \"doi1\"] is changed to [\"doi1, doi2\"] and then all instances of [\"doi1, doi2\"] would be counted. The current version likely splits co-citaiton counts between two rows. I generated 2.69 million co-citation pairs, though again, this number may be inflated with duplicates where \"doi1 doi2\" and \"doi2 doi1\" are treated as different pairs. \n",
    "\n",
    "Additionally, no adjustments were made to account for null values in either the citing or cited columns. I'm unsure to what extent null values are present in this current dataset, but nonetheless future versions should account for that as well."
   ]
  },
  {
   "cell_type": "markdown",
   "metadata": {},
   "source": [
    "The plot below shows that 1,000,000 co-citation pairs are cited together fewer than 25 times. The number of pairs decreases as the number of co-citation occurrances increases. The distribution appears to be a power law distribution with a very high number of co-citations appearing together infrequently and a very low number of co-citations appearing together frequently. If we use co-citation as a measure of \"relatedness\" in the data, this means that only a few nodes have been determined to be closely related by the citing authors. "
   ]
  },
  {
   "cell_type": "code",
   "execution_count": 6,
   "metadata": {},
   "outputs": [
    {
     "data": {
      "image/png": "[encoded data removed]",
      "text/plain": [
       "<Figure size 432x288 with 1 Axes>"
      ]
     },
     "metadata": {
      "needs_background": "light"
     },
     "output_type": "display_data"
    }
   ],
   "source": [
    "ax = df.plot(kind=\"hist\", logy=True)\n",
    "ax.set_xlabel('Frequency of Co-Citation')\n",
    "ax.set_ylabel('Number of Pairs')\n",
    "ax.get_legend().remove()"
   ]
  },
  {
   "cell_type": "markdown",
   "metadata": {},
   "source": [
    "I selected a histogram to display this data to show count information on the y-axis. However, as the histogram \"bins\" frequencies together, some density information is lost. For example, the plot shows that there were 11 pairs co-cited around 100 times (approximately, as it's a bit difficult to tell the range of the bins by sight alone), but the plot does not reflect whether most of these pairs were co-cited 100 times, whether most of them were co-cited 125 times, or whether there was an even distribution of data points. Because of this lack of detail, I would consider using a plot that shows individual data points instead of bins in the future. "
   ]
  },
  {
   "cell_type": "markdown",
   "metadata": {},
   "source": [
    "The table below shows the top-ten most highly co-cited pairs in the histone data. The highest co-citation frequency was 237 co-citations, which occurred once with the pairing of \"Sequence periodicities in chicken nucleosome core DNA\" by Satchwell, Drew, and Travers (1986) https://doi.org/10.1016/0022-2836(86)90452-3 and \"DNA bending and its relation to nucleosome positioning\" by Drew and Travers (1985) https://doi.org/10.1016/0022-2836(85)90396-1. Both papers are related to the positioning of DNA around a histone, they were published a year apart from each other, and two authors are shared between them. Given the overlap in subject matter and authorship, I'm unsurprised that these two items are so highly co-cited, especially if Drew and/or Travers went on to cite these two papers in their future work.\n",
    "\n",
    "This table doesn't show the entire co-citation pair as some characters get cut off (another artifact of using strings, this can be avoided by indexing a tuple or list), but at least two of the most-commonly cited pairs contains at least one annual review paper, including the second most-commonly cited pair. The top-ten most highly co-cited pairs each occurs more than 100 times, but the difference between the most highly co-cited pair and the 10th most highly co-cited is approximately the same as the difference between the 10th most highly co-cited and the least frequently co-cited, even though there are millions of co-citations separating the latter."
   ]
  },
  {
   "cell_type": "code",
   "execution_count": 7,
   "metadata": {},
   "outputs": [
    {
     "data": {
      "text/html": [
       "<div>\n",
       "<style scoped>\n",
       "    .dataframe tbody tr th:only-of-type {\n",
       "        vertical-align: middle;\n",
       "    }\n",
       "\n",
       "    .dataframe tbody tr th {\n",
       "        vertical-align: top;\n",
       "    }\n",
       "\n",
       "    .dataframe thead th {\n",
       "        text-align: right;\n",
       "    }\n",
       "</style>\n",
       "<table border=\"1\" class=\"dataframe\">\n",
       "  <thead>\n",
       "    <tr style=\"text-align: right;\">\n",
       "      <th></th>\n",
       "      <th>Pair</th>\n",
       "      <th>Count</th>\n",
       "    </tr>\n",
       "  </thead>\n",
       "  <tbody>\n",
       "    <tr>\n",
       "      <th>23753</th>\n",
       "      <td>10.1002/j.1460-2075.1986.tb04240.x 10.1016/009...</td>\n",
       "      <td>122</td>\n",
       "    </tr>\n",
       "    <tr>\n",
       "      <th>47632</th>\n",
       "      <td>10.1016/0092-8674(90)90599-a 10.1016/0092-8674...</td>\n",
       "      <td>129</td>\n",
       "    </tr>\n",
       "    <tr>\n",
       "      <th>47804</th>\n",
       "      <td>10.1016/0092-8674(89)90687-9 10.1016/0092-8674...</td>\n",
       "      <td>132</td>\n",
       "    </tr>\n",
       "    <tr>\n",
       "      <th>47738</th>\n",
       "      <td>10.1038/346760a0 10.1016/0092-8674(89)90936-7</td>\n",
       "      <td>132</td>\n",
       "    </tr>\n",
       "    <tr>\n",
       "      <th>27694</th>\n",
       "      <td>10.1126/science.7433974 10.1093/nar/8.17.3757</td>\n",
       "      <td>145</td>\n",
       "    </tr>\n",
       "    <tr>\n",
       "      <th>47654</th>\n",
       "      <td>10.1016/0092-8674(88)90060-8 10.1038/335251a0</td>\n",
       "      <td>152</td>\n",
       "    </tr>\n",
       "    <tr>\n",
       "      <th>33390</th>\n",
       "      <td>10.1146/annurev.bi.51.070182.000513 10.1146/an...</td>\n",
       "      <td>154</td>\n",
       "    </tr>\n",
       "    <tr>\n",
       "      <th>84923</th>\n",
       "      <td>10.1016/0092-8674(84)90300-3 10.1016/0092-8674...</td>\n",
       "      <td>200</td>\n",
       "    </tr>\n",
       "    <tr>\n",
       "      <th>94271</th>\n",
       "      <td>10.1146/annurev.bi.49.070180.005343 10.1146/an...</td>\n",
       "      <td>202</td>\n",
       "    </tr>\n",
       "    <tr>\n",
       "      <th>23091</th>\n",
       "      <td>10.1016/0022-2836(86)90452-3 10.1016/0022-2836...</td>\n",
       "      <td>237</td>\n",
       "    </tr>\n",
       "  </tbody>\n",
       "</table>\n",
       "</div>"
      ],
      "text/plain": [
       "                                                    Pair  Count\n",
       "23753  10.1002/j.1460-2075.1986.tb04240.x 10.1016/009...    122\n",
       "47632  10.1016/0092-8674(90)90599-a 10.1016/0092-8674...    129\n",
       "47804  10.1016/0092-8674(89)90687-9 10.1016/0092-8674...    132\n",
       "47738      10.1038/346760a0 10.1016/0092-8674(89)90936-7    132\n",
       "27694      10.1126/science.7433974 10.1093/nar/8.17.3757    145\n",
       "47654      10.1016/0092-8674(88)90060-8 10.1038/335251a0    152\n",
       "33390  10.1146/annurev.bi.51.070182.000513 10.1146/an...    154\n",
       "84923  10.1016/0092-8674(84)90300-3 10.1016/0092-8674...    200\n",
       "94271  10.1146/annurev.bi.49.070180.005343 10.1146/an...    202\n",
       "23091  10.1016/0022-2836(86)90452-3 10.1016/0022-2836...    237"
      ]
     },
     "execution_count": 7,
     "metadata": {},
     "output_type": "execute_result"
    }
   ],
   "source": [
    "df.tail(10)"
   ]
  },
  {
   "cell_type": "markdown",
   "metadata": {},
   "source": [
    "## Graphing"
   ]
  },
  {
   "cell_type": "markdown",
   "metadata": {},
   "source": [
    "I experimented with both Networkx and Pyvis to visualize the co-citation graph, but I could only get Networkx to complete as Pyvis ran for four hours before I stopped the program. (In retrospect, I should have tried to generate a smaller graph in Pyvis first before attempting it on my entire dataset.) The second of the code blocks below should generate a graph that includes each co-citation that occurs once or more, or every item in my data frame. The third code block does the same but for pairs that occur three times or more. "
   ]
  },
  {
   "cell_type": "markdown",
   "metadata": {},
   "source": [
    "### One or More Occurrences"
   ]
  },
  {
   "cell_type": "markdown",
   "metadata": {},
   "source": [
    "Note: The following code takes approximately 25 minutes to run on my Macbook with M1 chip. It may take some time to finish completing."
   ]
  },
  {
   "cell_type": "code",
   "execution_count": 8,
   "metadata": {},
   "outputs": [],
   "source": [
    "import networkx as nx\n",
    "import matplotlib.pyplot as plt\n",
    "\n",
    "def graph_co_citation(int):\n",
    "\n",
    "    G = nx.Graph()\n",
    "\n",
    "    keys = count_dict.keys()\n",
    "    edge_list = [('Item 1', 'Item 2')]\n",
    "    # for each co-citation pair\n",
    "    for j in keys:\n",
    "    # if the number of co-citation occurances is greater or equal to (int)\n",
    "        if count_dict.get(j) >= int:\n",
    "            edge = j.split()\n",
    "            # get both items in the pair and add to a list of tuples\n",
    "            edge_list.append((edge[0], edge[1]))\n",
    "    # delete the header\n",
    "    del edge_list[0]\n",
    "\n",
    "    # each item in the list of edges is a node\n",
    "    # does this add multiple nodes of the same doi? Investigate\n",
    "    for i in edge_list:\n",
    "        G.add_node(edge_list[0])\n",
    "        G.add_node(edge_list[1])\n",
    "\n",
    "    G.add_edges_from(edge_list)\n",
    "\n",
    "    nx.draw(G)\n",
    "    plt.draw()"
   ]
  },
  {
   "cell_type": "code",
   "execution_count": 9,
   "metadata": {},
   "outputs": [
    {
     "ename": "KeyboardInterrupt",
     "evalue": "",
     "output_type": "error",
     "traceback": [
      "\u001b[0;31m---------------------------------------------------------------------------\u001b[0m",
      "\u001b[0;31mKeyboardInterrupt\u001b[0m                         Traceback (most recent call last)",
      "\u001b[1;32mUntitled-1.ipynb Cell 21'\u001b[0m in \u001b[0;36m<cell line: 1>\u001b[0;34m()\u001b[0m\n\u001b[0;32m----> <a href='vscode-notebook-cell:Untitled-1.ipynb?jupyter-notebook#ch0000022untitled?line=0'>1</a>\u001b[0m graph_co_citation(\u001b[39m1\u001b[39;49m)\n",
      "\u001b[1;32mUntitled-1.ipynb Cell 20'\u001b[0m in \u001b[0;36mgraph_co_citation\u001b[0;34m(int)\u001b[0m\n\u001b[1;32m     <a href='vscode-notebook-cell:Untitled-1.ipynb?jupyter-notebook#ch0000021untitled?line=23'>24</a>\u001b[0m     G\u001b[39m.\u001b[39madd_node(edge_list[\u001b[39m1\u001b[39m])\n\u001b[1;32m     <a href='vscode-notebook-cell:Untitled-1.ipynb?jupyter-notebook#ch0000021untitled?line=25'>26</a>\u001b[0m G\u001b[39m.\u001b[39madd_edges_from(edge_list)\n\u001b[0;32m---> <a href='vscode-notebook-cell:Untitled-1.ipynb?jupyter-notebook#ch0000021untitled?line=27'>28</a>\u001b[0m nx\u001b[39m.\u001b[39;49mdraw(G)\n\u001b[1;32m     <a href='vscode-notebook-cell:Untitled-1.ipynb?jupyter-notebook#ch0000021untitled?line=28'>29</a>\u001b[0m plt\u001b[39m.\u001b[39mdraw()\n",
      "File \u001b[0;32m/opt/homebrew/lib/python3.9/site-packages/networkx/drawing/nx_pylab.py:121\u001b[0m, in \u001b[0;36mdraw\u001b[0;34m(G, pos, ax, **kwds)\u001b[0m\n\u001b[1;32m    118\u001b[0m \u001b[39mif\u001b[39;00m \u001b[39m\"\u001b[39m\u001b[39mwith_labels\u001b[39m\u001b[39m\"\u001b[39m \u001b[39mnot\u001b[39;00m \u001b[39min\u001b[39;00m kwds:\n\u001b[1;32m    119\u001b[0m     kwds[\u001b[39m\"\u001b[39m\u001b[39mwith_labels\u001b[39m\u001b[39m\"\u001b[39m] \u001b[39m=\u001b[39m \u001b[39m\"\u001b[39m\u001b[39mlabels\u001b[39m\u001b[39m\"\u001b[39m \u001b[39min\u001b[39;00m kwds\n\u001b[0;32m--> 121\u001b[0m draw_networkx(G, pos\u001b[39m=\u001b[39;49mpos, ax\u001b[39m=\u001b[39;49max, \u001b[39m*\u001b[39;49m\u001b[39m*\u001b[39;49mkwds)\n\u001b[1;32m    122\u001b[0m ax\u001b[39m.\u001b[39mset_axis_off()\n\u001b[1;32m    123\u001b[0m plt\u001b[39m.\u001b[39mdraw_if_interactive()\n",
      "File \u001b[0;32m/opt/homebrew/lib/python3.9/site-packages/networkx/drawing/nx_pylab.py:301\u001b[0m, in \u001b[0;36mdraw_networkx\u001b[0;34m(G, pos, arrows, with_labels, **kwds)\u001b[0m\n\u001b[1;32m    298\u001b[0m label_kwds \u001b[39m=\u001b[39m {k: v \u001b[39mfor\u001b[39;00m k, v \u001b[39min\u001b[39;00m kwds\u001b[39m.\u001b[39mitems() \u001b[39mif\u001b[39;00m k \u001b[39min\u001b[39;00m valid_label_kwds}\n\u001b[1;32m    300\u001b[0m \u001b[39mif\u001b[39;00m pos \u001b[39mis\u001b[39;00m \u001b[39mNone\u001b[39;00m:\n\u001b[0;32m--> 301\u001b[0m     pos \u001b[39m=\u001b[39m nx\u001b[39m.\u001b[39;49mdrawing\u001b[39m.\u001b[39;49mspring_layout(G)  \u001b[39m# default to spring layout\u001b[39;00m\n\u001b[1;32m    303\u001b[0m draw_networkx_nodes(G, pos, \u001b[39m*\u001b[39m\u001b[39m*\u001b[39mnode_kwds)\n\u001b[1;32m    304\u001b[0m draw_networkx_edges(G, pos, arrows\u001b[39m=\u001b[39marrows, \u001b[39m*\u001b[39m\u001b[39m*\u001b[39medge_kwds)\n",
      "File \u001b[0;32m/opt/homebrew/lib/python3.9/site-packages/networkx/utils/decorators.py:845\u001b[0m, in \u001b[0;36margmap.__call__.<locals>.func\u001b[0;34m(_argmap__wrapper, *args, **kwargs)\u001b[0m\n\u001b[1;32m    844\u001b[0m \u001b[39mdef\u001b[39;00m \u001b[39mfunc\u001b[39m(\u001b[39m*\u001b[39margs, __wrapper\u001b[39m=\u001b[39m\u001b[39mNone\u001b[39;00m, \u001b[39m*\u001b[39m\u001b[39m*\u001b[39mkwargs):\n\u001b[0;32m--> 845\u001b[0m     \u001b[39mreturn\u001b[39;00m argmap\u001b[39m.\u001b[39;49m_lazy_compile(__wrapper)(\u001b[39m*\u001b[39;49margs, \u001b[39m*\u001b[39;49m\u001b[39m*\u001b[39;49mkwargs)\n",
      "File \u001b[0;32m<class 'networkx.utils.decorators.argmap'> compilation 4:4\u001b[0m, in \u001b[0;36margmap_spring_layout_1\u001b[0;34m(G, k, pos, fixed, iterations, threshold, weight, scale, center, dim, seed)\u001b[0m\n\u001b[1;32m      2\u001b[0m \u001b[39mimport\u001b[39;00m \u001b[39mcollections\u001b[39;00m\n\u001b[1;32m      3\u001b[0m \u001b[39mimport\u001b[39;00m \u001b[39mgzip\u001b[39;00m\n\u001b[0;32m----> 4\u001b[0m \u001b[39mimport\u001b[39;00m \u001b[39minspect\u001b[39;00m\n\u001b[1;32m      5\u001b[0m \u001b[39mimport\u001b[39;00m \u001b[39mitertools\u001b[39;00m\n\u001b[1;32m      6\u001b[0m \u001b[39mimport\u001b[39;00m \u001b[39mre\u001b[39;00m\n",
      "File \u001b[0;32m/opt/homebrew/lib/python3.9/site-packages/networkx/drawing/layout.py:476\u001b[0m, in \u001b[0;36mspring_layout\u001b[0;34m(G, k, pos, fixed, iterations, threshold, weight, scale, center, dim, seed)\u001b[0m\n\u001b[1;32m    474\u001b[0m \u001b[39mif\u001b[39;00m \u001b[39mlen\u001b[39m(G) \u001b[39m<\u001b[39m \u001b[39m500\u001b[39m:  \u001b[39m# sparse solver for large graphs\u001b[39;00m\n\u001b[1;32m    475\u001b[0m     \u001b[39mraise\u001b[39;00m \u001b[39mValueError\u001b[39;00m\n\u001b[0;32m--> 476\u001b[0m A \u001b[39m=\u001b[39m nx\u001b[39m.\u001b[39;49mto_scipy_sparse_array(G, weight\u001b[39m=\u001b[39;49mweight, dtype\u001b[39m=\u001b[39;49m\u001b[39m\"\u001b[39;49m\u001b[39mf\u001b[39;49m\u001b[39m\"\u001b[39;49m)\n\u001b[1;32m    477\u001b[0m \u001b[39mif\u001b[39;00m k \u001b[39mis\u001b[39;00m \u001b[39mNone\u001b[39;00m \u001b[39mand\u001b[39;00m fixed \u001b[39mis\u001b[39;00m \u001b[39mnot\u001b[39;00m \u001b[39mNone\u001b[39;00m:\n\u001b[1;32m    478\u001b[0m     \u001b[39m# We must adjust k by domain size for layouts not near 1x1\u001b[39;00m\n\u001b[1;32m    479\u001b[0m     nnodes, _ \u001b[39m=\u001b[39m A\u001b[39m.\u001b[39mshape\n",
      "File \u001b[0;32m/opt/homebrew/lib/python3.9/site-packages/networkx/convert_matrix.py:899\u001b[0m, in \u001b[0;36mto_scipy_sparse_array\u001b[0;34m(G, nodelist, dtype, weight, format)\u001b[0m\n\u001b[1;32m    896\u001b[0m         G \u001b[39m=\u001b[39m G\u001b[39m.\u001b[39msubgraph(nodelist)\n\u001b[1;32m    898\u001b[0m index \u001b[39m=\u001b[39m \u001b[39mdict\u001b[39m(\u001b[39mzip\u001b[39m(nodelist, \u001b[39mrange\u001b[39m(nlen)))\n\u001b[0;32m--> 899\u001b[0m coefficients \u001b[39m=\u001b[39m \u001b[39mzip\u001b[39;49m(\n\u001b[1;32m    900\u001b[0m     \u001b[39m*\u001b[39;49m((index[u], index[v], wt) \u001b[39mfor\u001b[39;49;00m u, v, wt \u001b[39min\u001b[39;49;00m G\u001b[39m.\u001b[39;49medges(data\u001b[39m=\u001b[39;49mweight, default\u001b[39m=\u001b[39;49m\u001b[39m1\u001b[39;49m))\n\u001b[1;32m    901\u001b[0m )\n\u001b[1;32m    902\u001b[0m \u001b[39mtry\u001b[39;00m:\n\u001b[1;32m    903\u001b[0m     row, col, data \u001b[39m=\u001b[39m coefficients\n",
      "\u001b[0;31mKeyboardInterrupt\u001b[0m: "
     ]
    },
    {
     "data": {
      "image/png": "[encoded data removed]",
      "text/plain": [
       "<Figure size 432x288 with 1 Axes>"
      ]
     },
     "metadata": {},
     "output_type": "display_data"
    }
   ],
   "source": [
    "graph_co_citation(1)"
   ]
  },
  {
   "cell_type": "markdown",
   "metadata": {},
   "source": [
    "### Three or More Occurrences"
   ]
  },
  {
   "cell_type": "markdown",
   "metadata": {},
   "source": [
    "Note: This took less than two minutes to run on my Macbook with M1 chip. Runtimes may vary, however. "
   ]
  },
  {
   "cell_type": "code",
   "execution_count": 10,
   "metadata": {},
   "outputs": [
    {
     "data": {
      "image/png": "[encoded data removed]",
      "text/plain": [
       "<Figure size 432x288 with 1 Axes>"
      ]
     },
     "metadata": {},
     "output_type": "display_data"
    }
   ],
   "source": [
    "graph_co_citation(3)"
   ]
  },
  {
   "cell_type": "markdown",
   "metadata": {},
   "source": [
    "Some critiques on the graphs: The graphs above provide very little information and it's difficult to tell what is being displayed. The nodes aren't clearly defined or spaced well so it's difficult to tell whether some circles are overlapping nodes or just a single node. The nodes aren't labeled, though there might be a way to generate labels that I'm missing. To its benefit, the Networkx graphs were generated quickly compared to Pyvis, the other package I tried to use. However, speed is useless if the resulting graph is illegible. Making these graphs was useful as an exercise in getting the data into a format that could be read by graphing packages, but in the future I would look at other tools that could provide more meaningful graphs, with separation between nodes and clear edges. "
   ]
  },
  {
   "cell_type": "markdown",
   "metadata": {},
   "source": [
    "## Conclusions"
   ]
  },
  {
   "cell_type": "markdown",
   "metadata": {},
   "source": [
    "This was an exercise in generating all the co-citation pairs in a relatively small citation dataset and counting the frequency of those pairs. One issue I ran into was efficiency problems as the size of the data increased. For example, I started with a dataset of 249,919 edges that I got by appending rows to a pandas dataframe. This approach did not scale well, as I ended up with 2.69 million (hopefully) mostly unique citation pairings, and appending to a dataframe became an incredibly slow process. \n",
    "\n",
    "After I switched to a more efficient data storage system, I was able to determine that the co-citation data had a power law distribution where highly co-cited pairs were infrequent while less-commonly co-cited pairs were common. Additionally, I was able to determine the most highly co-cited papers had a similar subject matter and two of the three co-authors were authors on both papers. Due to the high co-citation rate, it appears that either the research community determined these two papers to be highly related, the authors freqently self-cited as time went on, or perhaps a combination of both. \n",
    "\n",
    "Some things I would change moving forward involve being more careful with my data wrangling and thinking more critically about my use of data structures. I realized that my solution treated \"doi1 doi2\" and \"doi2 doi1\" pairs as separate pairings, but I couldn't figure out a way to reconcile this difference while using a single string to store this data. A more flexible alternative, and one that would have solved this problem, would be not using a string at all, as I discussed previously. \n",
    "\n",
    "I'm also interested in looking into different graphing packages, as I'm disappointed in the graphs I generated here. It was a good first step, but I'm also looking forward to seeing what other tools are capable of. "
   ]
  }
 ],
 "metadata": {
  "kernelspec": {
   "display_name": "Python 3.9.13 64-bit",
   "language": "python",
   "name": "python3"
  },
  "language_info": {
   "codemirror_mode": {
    "name": "ipython",
    "version": 3
   },
   "file_extension": ".py",
   "mimetype": "text/x-python",
   "name": "python",
   "nbconvert_exporter": "python",
   "pygments_lexer": "ipython3",
   "version": "3.9.13"
  },
  "orig_nbformat": 4,
  "vscode": {
   "interpreter": {
    "hash": "b0fa6594d8f4cbf19f97940f81e996739fb7646882a419484c72d19e05852a7e"
   }
  }
 },
 "nbformat": 4,
 "nbformat_minor": 2
}
